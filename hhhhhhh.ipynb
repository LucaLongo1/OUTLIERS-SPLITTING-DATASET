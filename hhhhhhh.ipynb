{
 "cells": [
  {
   "cell_type": "markdown",
   "id": "76862f2a",
   "metadata": {},
   "source": [
    "## OUTLIERS & SPLITTING DATASET\n",
    "## CREATO DA LucaLongo Chiurlo Davide ilary "
   ]
  },
  {
   "cell_type": "markdown",
   "id": "03b9fe94",
   "metadata": {},
   "source": [
    "##  Analisi e Preparazione dei Dati: Un Esempio con Altezze e Pes\n"
   ]
  },
  {
   "cell_type": "code",
   "execution_count": null,
   "id": "0aff83a7",
   "metadata": {},
   "outputs": [],
   "source": [
    "import numpy as np\n",
    "from sklearn.model_selection import train_test_split\n",
    "# Creare dati casuali per altezze (variabile indipendente) e pesi (variabile␣\n",
    "↪dipendente)\n",
    "np.random.seed(0)\n",
    "altezze = np.random.normal(160, 10, 100)\n",
    "pesi = 0.5 * altezze + np.random.normal(0, 5, 100)\n",
    "# Suddividere il dataset in training set (70%) e test set (30%)\n",
    "X_train, X_test, y_train, y_test = train_test_split(altezze, pesi, test_size=0.\n",
    "↪3, random_state=42)\n",
    "# Stampare le dimensioni dei training set e test set\n",
    "print(\"Dimensioni del Training Set (altezze e pesi):\", X_train.shape, y_train.\n",
    "↪shape)\n",
    "print(\"Dimensioni del Test Set (altezze e pesi):\", X_test.shape, y_test.shape)"
   ]
  },
  {
   "cell_type": "markdown",
   "id": "49ad2bfa",
   "metadata": {},
   "source": [
    "## Analisi della correlazione tra le visite al sito web e l’importo delle vendite"
   ]
  },
  {
   "cell_type": "code",
   "execution_count": null,
   "id": "e9c4474f",
   "metadata": {},
   "outputs": [],
   "source": [
    " import numpy as np\n",
    "import matplotlib.pyplot as plt\n",
    "from sklearn.model_selection import train_test_split\n",
    "# Creazione di dati casuali per visite al sito web e importo delle vendite\n",
    "np.random.seed(0)\n",
    "visite_al_sito = np.random.randint(100, 1000, 1000)\n",
    "importo_vendite = 50 + 0.2 * visite_al_sito + np.random.normal(0, 10, 1000)\n",
    "# Suddivisione del dataset in training set (70%) e test set (30%)\n",
    "X_train, X_test, y_train, y_test = train_test_split(visite_al_sito,␣\n",
    "↪importo_vendite, test_size=0.3, random_state=42)\n",
    "# Creazione di un grafico a dispersione\n",
    "plt.figure(figsize=(10, 6))\n",
    "plt.scatter(X_train, y_train, label='Training Set', color='blue', alpha=0.7)\n",
    "plt.scatter(X_test, y_test, label='Test Set', color='orange', alpha=0.7)\n",
    "plt.xlabel('Numero di Visite al Sito')\n",
    "plt.ylabel('Importo delle Vendite')\n",
    "plt.title('Relazione tra Visite al Sito e Importo delle Vendite')\n",
    "plt.legend()\n",
    "plt.grid(True)\n",
    "plt.show()\n",
    "# Stampare le dimensioni dei training set e test set\n",
    "print(\"Dimensioni del Training Set (visite al sito e importo delle vendite):\",␣\n",
    "↪X_train.shape, y_train.shape)\n",
    "print(\"Dimensioni del Test Set (visite al sito e importo delle vendite):\",␣\n",
    "↪X_test.shape, y_test.shape)"
   ]
  },
  {
   "cell_type": "markdown",
   "id": "9abb508d",
   "metadata": {},
   "source": [
    "##  Analisi Statistica di un Campione Estratto da un Dataset: Un Esempio con\n",
    " ## Numeri Casuali\n"
   ]
  },
  {
   "cell_type": "code",
   "execution_count": null,
   "id": "f4e63caa",
   "metadata": {},
   "outputs": [],
   "source": [
    " import random\n",
    "import numpy as np\n",
    "dataset=[]\n",
    "3\n",
    "# Creazione di un dataset di 1000 elementi (ad esempio, dati casuali)\n",
    "for i in range(1000):\n",
    "dataset.append(random.randint(1, 100))\n",
    "# Estrazione di un campione casuale semplice di 50 elementi dal dataset\n",
    "campione_casuale = random.sample(dataset, 300)\n",
    "# Calcolo della media e della deviazione standard del campione\n",
    "media_campione = np.mean(campione_casuale)\n",
    "deviazione_standard_campione = np.std(campione_casuale)\n",
    "# Calcolo della media e della deviazione standard del dataset completo\n",
    "media_dataset = np.mean(dataset)\n",
    "deviazione_standard_dataset = np.std(dataset)\n",
    "print(f\"Media del campione casuale: {media_campione: .2f}\")\n",
    "print(f\"Deviazione standard del campione casuale: {deviazione_standard_campione:\n",
    "↪ .2f}\")\n",
    "print(f\"Media del dataset completo: {media_dataset: .2f}\")\n",
    "print(f\"Deviazione standard del dataset completo: {deviazione_standard_dataset:␣\n",
    "↪.2f}\")"
   ]
  },
  {
   "cell_type": "markdown",
   "id": "1d76c1e3",
   "metadata": {},
   "source": [
    "##  Generazione di un DataFrame con distribuzione personalizzata"
   ]
  },
  {
   "cell_type": "code",
   "execution_count": null,
   "id": "dfa211d2",
   "metadata": {},
   "outputs": [],
   "source": [
    "import pandas as pd\n",
    "import numpy as np\n",
    "import matplotlib.pyplot as plt\n",
    "from sklearn.model_selection import train_test_split\n",
    "# Impostare il seed per la riproducibilità\n",
    "np.random.seed(42)\n",
    "# Numero totale di elementi nel DataFrame\n",
    "num_elementi = 1000\n",
    "# Percentuale di \"A\"\n",
    "percentuale_A = 0.7\n",
    "# Generare la colonna con distribuzione desiderata\n",
    "colonna = np.random.choice(['A', 'B'], size=num_elementi, p=[percentuale_A, 1 -␣\n",
    "↪percentuale_A])\n",
    "# Creare il DataFrame\n",
    "df = pd.DataFrame({'ColonnaAB': colonna})\n",
    "df\n"
   ]
  },
  {
   "cell_type": "markdown",
   "id": "51d97665",
   "metadata": {},
   "source": [
    "## Suddivisione di un DataFrame in tre subset di dimensioni simili"
   ]
  },
  {
   "cell_type": "code",
   "execution_count": null,
   "id": "27be5230",
   "metadata": {},
   "outputs": [],
   "source": [
    "# Creare tre subset di dimensioni simili\n",
    "subset1 = df.sample(frac=1/3)\n",
    "df = df.drop(subset1.index)\n",
    "subset2 = df.sample(frac=1/2)\n",
    "df = df.drop(subset2.index)\n",
    "subset3 = df # L'ultimo subset con il rimanente"
   ]
  },
  {
   "cell_type": "markdown",
   "id": "0eade984",
   "metadata": {},
   "source": [
    "##  Calcolo delle percentuali di ‘A’ e ‘B’ in un subset di DataFrame"
   ]
  },
  {
   "cell_type": "code",
   "execution_count": null,
   "id": "1e755969",
   "metadata": {},
   "outputs": [],
   "source": [
    "percentuali_subset1 = subset1['ColonnaAB'].value_counts(normalize=True)\n",
    "percentuali_subset1"
   ]
  },
  {
   "cell_type": "markdown",
   "id": "a1cdc8bb",
   "metadata": {},
   "source": [
    "## Generazione e Analisi di un DataFrame con Distribuzione Specifica di Categorie"
   ]
  },
  {
   "cell_type": "code",
   "execution_count": null,
   "id": "06e86d1f",
   "metadata": {},
   "outputs": [],
   "source": [
    "import pandas as pd\n",
    "import numpy as np\n",
    "import matplotlib.pyplot as plt\n",
    "from sklearn.model_selection import train_test_split\n",
    "# Impostare il seed per la riproducibilità\n",
    "np.random.seed(42)\n",
    "# Numero totale di elementi nel DataFrame\n",
    "num_elementi = 1000\n",
    "6\n",
    "# Percentuale di \"A\"\n",
    "percentuale_A = 0.7\n",
    "# Generare la colonna con distribuzione desiderata\n",
    "colonna = np.random.choice(['A', 'B'], size=num_elementi, p=[percentuale_A, 1 -␣\n",
    "↪percentuale_A])\n",
    "# Creare il DataFrame\n",
    "df = pd.DataFrame({'ColonnaAB': colonna})\n",
    "# Calcolare la frequenza delle diverse categorie\n",
    "frequenze = df['ColonnaAB'].value_counts(normalize=True)\n",
    "print(f\"Frequenze relative delle categorie:\\n{frequenze}\")\n"
   ]
  },
  {
   "cell_type": "markdown",
   "id": "da17a2bc",
   "metadata": {},
   "source": [
    "##  Analisi Statistica e Visualizzazione di Subset di un DataFrame: Un Esempio\n",
    " ## con Grafici a Torta\n"
   ]
  },
  {
   "cell_type": "code",
   "execution_count": null,
   "id": "67fcdde3",
   "metadata": {},
   "outputs": [],
   "source": [
    " # Calcolare le percentuali di \"A\" e \"B\" per ogni subset\n",
    "percentuali_subset1 = subset1['ColonnaAB'].value_counts(normalize=True)\n",
    "percentuali_subset2 = subset2['ColonnaAB'].value_counts(normalize=True)\n",
    "percentuali_subset3 = subset3['ColonnaAB'].value_counts(normalize=True)\n",
    "# Creare i grafici a torta\n",
    "7\n",
    "fig, axs = plt.subplots(3, 1, figsize=(6, 12))\n",
    "# Subset 1\n",
    "axs[0].pie(percentuali_subset1, labels=percentuali_subset1.index, autopct='%1.\n",
    "↪1f%%', startangle=90)\n",
    "axs[0].set_title('Subset 1')\n",
    "# Subset 2\n",
    "axs[1].pie(percentuali_subset2, labels=percentuali_subset2.index, autopct='%1.\n",
    "↪1f%%', startangle=90)\n",
    "axs[1].set_title('Subset 2')\n",
    "# Subset 3\n",
    "axs[2].pie(percentuali_subset3, labels=percentuali_subset3.index, autopct='%1.\n",
    "↪1f%%', startangle=90)\n",
    "axs[2].set_title('Subset 3')\n",
    "# Mostrare il grafico\n",
    "plt.show()\n"
   ]
  },
  {
   "cell_type": "markdown",
   "id": "31d6250f",
   "metadata": {},
   "source": [
    "##  Analisi Statistica e Visualizzazione di Training Set e Test Set: Un Esempio con\n",
    "## Grafici a Torta\n"
   ]
  },
  {
   "cell_type": "code",
   "execution_count": null,
   "id": "8d0ab981",
   "metadata": {},
   "outputs": [],
   "source": [
    "# Dividere ciascun subset in training set e test set\n",
    "train_subset1, test_subset1 = train_test_split(subset1, test_size=0.2,␣\n",
    "↪random_state=42)\n",
    "train_subset2, test_subset2 = train_test_split(subset2, test_size=0.2,␣\n",
    "↪random_state=42)\n",
    "train_subset3, test_subset3 = train_test_split(subset3, test_size=0.2,␣\n",
    "↪random_state=42)\n",
    "# Creare il grafico con 6 torte\n",
    "fig, axs = plt.subplots(3, 2, figsize=(10, 12))\n",
    "# Funzione per disegnare una torta con etichette\n",
    "def draw_pie(ax, data, title):\n",
    "ax.pie(data, labels=data.index, autopct='%1.1f%%', startangle=90)\n",
    "ax.set_title(title)\n",
    "# Prima riga di torte (Subset 1)\n",
    "draw_pie(axs[0, 0], train_subset1['ColonnaAB'].value_counts(normalize=True),␣\n",
    "↪'Train Subset 1')\n",
    "draw_pie(axs[0, 1], test_subset1['ColonnaAB'].value_counts(normalize=True),␣\n",
    "↪'Test Subset 1')\n",
    "# Seconda riga di torte (Subset 2)"
   ]
  },
  {
   "cell_type": "markdown",
   "id": "7ad42a71",
   "metadata": {},
   "source": [
    "##  Identificazione degli Outliers in un DataFrame: Un Esempio con la Regola delle\n",
    "## 3 Sigma"
   ]
  },
  {
   "cell_type": "code",
   "execution_count": null,
   "id": "96641c1b",
   "metadata": {},
   "outputs": [],
   "source": [
    "# Dividere ciascun subset in training set e test set\n",
    "train_subset1, test_subset1 = train_test_split(subset1, test_size=0.2,␣\n",
    "↪random_state=42)\n",
    "train_subset2, test_subset2 = train_test_split(subset2, test_size=0.2,␣\n",
    "↪random_state=42)\n",
    "train_subset3, test_subset3 = train_test_split(subset3, test_size=0.2,␣\n",
    "↪random_state=42)\n",
    "# Creare il grafico con 6 torte\n",
    "fig, axs = plt.subplots(3, 2, figsize=(10, 12))\n",
    "# Funzione per disegnare una torta con etichette\n",
    "def draw_pie(ax, data, title):\n",
    "ax.pie(data, labels=data.index, autopct='%1.1f%%', startangle=90)\n",
    "ax.set_title(title)\n",
    "# Prima riga di torte (Subset 1)\n",
    "draw_pie(axs[0, 0], train_subset1['ColonnaAB'].value_counts(normalize=True),␣\n",
    "↪'Train Subset 1')\n",
    "draw_pie(axs[0, 1], test_subset1['ColonnaAB'].value_counts(normalize=True),␣\n",
    "↪'Test Subset 1')\n",
    "# Seconda riga di torte (Subset 2)\n",
    "draw_pie(axs[1, 0], train_subset2['ColonnaAB'].value_counts(normalize=True),␣\n",
    "↪'Train Subset 2')\n",
    "draw_pie(axs[1, 1], test_subset2['ColonnaAB'].value_counts(normalize=True),␣\n",
    "↪'Test Subset 2')\n",
    "# Terza riga di torte (Subset 3)\n",
    "draw_pie(axs[2, 0], train_subset3['ColonnaAB'].value_counts(normalize=True),␣\n",
    "↪'Train Subset 3')\n",
    "draw_pie(axs[2, 1], test_subset3['ColonnaAB'].value_counts(normalize=True),␣\n",
    "↪'Test Subset 3')\n",
    "# Regolare lo spaziamento tra i subplots\n",
    "plt.tight_layout()\n",
    "# Mostrare il grafico\n",
    "plt.show()\n"
   ]
  },
  {
   "cell_type": "markdown",
   "id": "c731b624",
   "metadata": {},
   "source": [
    "## Calcolo della media e della deviazione standard in un DataFrame"
   ]
  },
  {
   "cell_type": "code",
   "execution_count": null,
   "id": "a16b3b63",
   "metadata": {},
   "outputs": [],
   "source": [
    "import pandas as pd\n",
    "import matplotlib.pyplot as plt\n",
    "# Crea un DataFrame di esempio\n",
    "data = {'Valori': [1, 2, 3, 4, 5, 10, 15, 20, 25, 300, 1000, 100000000,␣\n",
    "↪-50000000, -50]}\n",
    "df = pd.DataFrame(data)\n",
    "# Lista con outliers da entrambi i lati\n",
    "# Calcola la media e la deviazione standard\n",
    "mean_value = df['Valori'].mean()\n",
    "std_dev = df['Valori'].std()\n",
    "# Identifica gli outliers considerando ±3 sigma dalla media\n",
    "outliers = df[(df['Valori'] > mean_value + 3 * std_dev) | (df['Valori'] <␣\n",
    "↪mean_value - 3 * std_dev)]\n",
    "outliers"
   ]
  },
  {
   "cell_type": "markdown",
   "id": "def9417e",
   "metadata": {},
   "source": [
    "## Visualizzazione di Outliers in un Grafico a Dispersione: Un Esempio con Media\n",
    "## e Deviazione Standard\n"
   ]
  },
  {
   "cell_type": "code",
   "execution_count": null,
   "id": "5bb661e0",
   "metadata": {},
   "outputs": [],
   "source": [
    "# Calcola la media e la deviazione standard\n",
    "mean_value = df['Valori'].mean()\n",
    "std_dev = df['Valori'].std()\n",
    "std_dev"
   ]
  },
  {
   "cell_type": "markdown",
   "id": "6705992e",
   "metadata": {},
   "source": [
    "##Identificazione degli Outliers in un DataFrame Multidimensionale: Un Esempio\n",
    "## con la Regola delle k Sigma"
   ]
  },
  {
   "cell_type": "code",
   "execution_count": null,
   "id": "3ee50fb0",
   "metadata": {},
   "outputs": [],
   "source": [
    "# Crea un grafico a dispersione\n",
    "plt.scatter(df.index, df['Valori'], label='Valori')\n",
    "# Evidenzia gli outliers nel grafico con un colore diverso\n",
    "plt.scatter(outliers.index, outliers['Valori'], color='red', label='Outliers')\n",
    "# Aggiungi la media e la deviazione standard al grafico\n",
    "plt.axhline(y=mean_value, color='green', linestyle='--', label='Media')\n",
    "plt.axhline(y=mean_value + 3 * std_dev, color='orange', linestyle='--',␣\n",
    "↪label='±3 Deviazioni Standard')\n",
    "plt.axhline(y=mean_value - 3 * std_dev, color='orange', linestyle='--')\n",
    "# Aggiungi etichette e legenda al grafico\n",
    "plt.xlabel('Indice')\n",
    "plt.ylabel('Valori')\n",
    "plt.title('Grafico con Outliers Evidenziati')\n",
    "plt.legend()\n",
    "# Mostra il grafico\n",
    "plt.show()\n"
   ]
  },
  {
   "cell_type": "markdown",
   "id": "34f28080",
   "metadata": {},
   "source": [
    "## Calcolo del numero di valori outlier in un DataFrame"
   ]
  },
  {
   "cell_type": "code",
   "execution_count": null,
   "id": "f959216d",
   "metadata": {},
   "outputs": [],
   "source": [
    " import pandas as pd\n",
    "import matplotlib.pyplot as plt\n",
    "# Crea un DataFrame di esempio con 4 features\n",
    "data = {'Feature1': [1, 2000, 3, 4, 50000, 10, 15, 20, 2500000, 300000000,␣\n",
    "↪100000000],\n",
    "'Feature2': [2, 4, 6, 8, 10, 20, 30, 40, 50000, 60, 200],\n",
    "'Feature3': [5, 10, 15, 20000, 25, 50, 75, 100, 125, 150, 500000],\n",
    "'Feature4': [1, -20000000, 3, 4000000000, 5, 10, 15, 20, 20005, 30,␣\n",
    "↪10000]}\n",
    "df = pd.DataFrame(data)\n",
    "# Definisci il numero minimo di features che devono superare la soglia per␣\n",
    "↪considerare un dato un outlier\n",
    "min_features_threshold = 1\n",
    "k=2 #intervallo di confidenza\n",
    "# Lista per salvare gli indici degli outliers\n",
    "outlier_indices = []\n",
    "# Itera su ogni feature\n",
    "for feature in df.columns:\n",
    "mean_value = df[feature].mean()\n",
    "std_dev = df[feature].std()\n",
    "# Identifica gli outliers per ciascuna feature\n",
    "df['Outlier_' + feature] = (df[feature] > mean_value + k * std_dev) |␣\n",
    "↪(df[feature] < mean_value - k * std_dev)\n",
    "print(df)\n"
   ]
  },
  {
   "cell_type": "markdown",
   "id": "c487f886",
   "metadata": {},
   "source": [
    "## Identificazione e Filtraggio degli Outliers in un DataFrame Multidimensionale:\n",
    "## Un Esempio con la Regola delle k Sigma"
   ]
  },
  {
   "cell_type": "code",
   "execution_count": null,
   "id": "a50c86c6",
   "metadata": {},
   "outputs": [],
   "source": [
    "df['Num_Outliers'] = df.filter(like='Outlier_').sum(axis=1)\n",
    "df"
   ]
  },
  {
   "cell_type": "markdown",
   "id": "8beb4d4c",
   "metadata": {},
   "source": [
    "## Calcolo del numero di caratteristiche in un DataFrame\n"
   ]
  },
  {
   "cell_type": "code",
   "execution_count": null,
   "id": "3e416f54",
   "metadata": {},
   "outputs": [],
   "source": [
    " # Calcola il numero di features che superano la soglia per ogni riga\n",
    "df['Num_Outliers'] = df.filter(like='Outlier_').sum(axis=1)\n",
    "# Filtra i dati per mantenere solo le righe con almeno il numero minimo di␣\n",
    "↪features superanti la soglia\n",
    "outliers = df[df['Num_Outliers'] >= min_features_threshold]\n",
    "# Aggiungi una colonna che indica se il record è un outlier o meno\n",
    "df['Is_Outlier'] = df.index.isin(outliers.index)\n",
    "# Rimuovi colonne ausiliarie\n",
    "df.drop(df.filter(like='Outlier_').columns, axis=1, inplace=True)\n",
    "df.drop('Num_Outliers', axis=1, inplace=True)\n",
    "df"
   ]
  },
  {
   "cell_type": "markdown",
   "id": "3885fd52",
   "metadata": {},
   "source": [
    "## Visualizzazione di Outliers in un DataFrame Multidimensionale: Un Esempio\n",
    "## con Grafici a Dispersione"
   ]
  },
  {
   "cell_type": "code",
   "execution_count": null,
   "id": "6bab2ac1",
   "metadata": {},
   "outputs": [],
   "source": [
    "# Organizza i grafici in una matrice, con una colonna e 4 righe\n",
    "num_features = len(df.columns) - 1 # Escludi la colonna 'Is_Outlier'\n",
    "num_features"
   ]
  },
  {
   "cell_type": "markdown",
   "id": "b0e1dffc",
   "metadata": {},
   "source": [
    "##  Visualizzazione di Outliers in un DataFrame Multidimensionale: Un Esempio\n",
    "## con Grafici a Dispersione"
   ]
  },
  {
   "cell_type": "code",
   "execution_count": null,
   "id": "bed16b89",
   "metadata": {},
   "outputs": [],
   "source": [
    "# Organizza i grafici in una matrice, con una colonna e 4 righe\n",
    "num_features = len(df.columns) - 1 # Escludi la colonna 'Is_Outlier'\n",
    "num_rows = num_features\n",
    "num_cols = 1 # Una colonna\n",
    "plt.figure(figsize=(6, 4 * num_rows))\n",
    "for i, feature in enumerate(df.columns[:-1]): # Escludi la colonna 'Is_Outlier'\n",
    "plt.subplot(num_rows, num_cols, i + 1)\n",
    "plt.scatter(df.index, df[feature], c=df['Is_Outlier'], cmap='coolwarm',␣\n",
    "↪alpha=0.8)\n",
    "plt.title(f'Outliers in Rosso - {feature}')\n",
    "plt.xlabel('Indice')\n",
    "plt.ylabel('Feature')\n",
    "plt.tight_layout()\n",
    "plt.show()"
   ]
  },
  {
   "cell_type": "markdown",
   "id": "59795ec7",
   "metadata": {},
   "source": [
    "##  Visualizzazione di Outliers in un DataFrame Multidimensionale: Un Esempio\n",
    "## con Grafici a Dispersione"
   ]
  },
  {
   "cell_type": "code",
   "execution_count": null,
   "id": "0274b31a",
   "metadata": {},
   "outputs": [],
   "source": [
    "# Elimina le righe corrispondenti agli outliers quelli che hanno almeno una␣\n",
    "↪features fuoriscala\n",
    "df_filtered = df[df['Is_Outlier'] == False]\n",
    "df_filtered"
   ]
  }
 ],
 "metadata": {
  "kernelspec": {
   "display_name": "Python 3 (ipykernel)",
   "language": "python",
   "name": "python3"
  },
  "language_info": {
   "codemirror_mode": {
    "name": "ipython",
    "version": 3
   },
   "file_extension": ".py",
   "mimetype": "text/x-python",
   "name": "python",
   "nbconvert_exporter": "python",
   "pygments_lexer": "ipython3",
   "version": "3.11.4"
  }
 },
 "nbformat": 4,
 "nbformat_minor": 5
}
